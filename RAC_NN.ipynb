{
 "cells": [
  {
   "cell_type": "code",
   "execution_count": 1,
   "metadata": {},
   "outputs": [],
   "source": [
    "\n",
    "import pandas as pd\n",
    "import numpy as np\n",
    "df = pd.read_csv('data/DATOS_TODOS.csv')"
   ]
  },
  {
   "cell_type": "code",
   "execution_count": 2,
   "metadata": {},
   "outputs": [
    {
     "data": {
      "text/html": [
       "<div>\n",
       "<style scoped>\n",
       "    .dataframe tbody tr th:only-of-type {\n",
       "        vertical-align: middle;\n",
       "    }\n",
       "\n",
       "    .dataframe tbody tr th {\n",
       "        vertical-align: top;\n",
       "    }\n",
       "\n",
       "    .dataframe thead th {\n",
       "        text-align: right;\n",
       "    }\n",
       "</style>\n",
       "<table border=\"1\" class=\"dataframe\">\n",
       "  <thead>\n",
       "    <tr style=\"text-align: right;\">\n",
       "      <th></th>\n",
       "      <th>DTBZ</th>\n",
       "      <th>RAC</th>\n",
       "      <th>PACIENTE</th>\n",
       "      <th>REGION</th>\n",
       "      <th>ESTADO</th>\n",
       "    </tr>\n",
       "  </thead>\n",
       "  <tbody>\n",
       "    <tr>\n",
       "      <th>0</th>\n",
       "      <td>0.89896</td>\n",
       "      <td>1.4471</td>\n",
       "      <td>1</td>\n",
       "      <td>1</td>\n",
       "      <td>1</td>\n",
       "    </tr>\n",
       "    <tr>\n",
       "      <th>1</th>\n",
       "      <td>0.86748</td>\n",
       "      <td>1.5136</td>\n",
       "      <td>1</td>\n",
       "      <td>1</td>\n",
       "      <td>1</td>\n",
       "    </tr>\n",
       "    <tr>\n",
       "      <th>2</th>\n",
       "      <td>0.93476</td>\n",
       "      <td>1.7063</td>\n",
       "      <td>1</td>\n",
       "      <td>1</td>\n",
       "      <td>1</td>\n",
       "    </tr>\n",
       "    <tr>\n",
       "      <th>3</th>\n",
       "      <td>0.90622</td>\n",
       "      <td>1.7889</td>\n",
       "      <td>1</td>\n",
       "      <td>1</td>\n",
       "      <td>1</td>\n",
       "    </tr>\n",
       "    <tr>\n",
       "      <th>4</th>\n",
       "      <td>0.78113</td>\n",
       "      <td>1.7905</td>\n",
       "      <td>1</td>\n",
       "      <td>1</td>\n",
       "      <td>1</td>\n",
       "    </tr>\n",
       "  </tbody>\n",
       "</table>\n",
       "</div>"
      ],
      "text/plain": [
       "      DTBZ     RAC  PACIENTE  REGION  ESTADO\n",
       "0  0.89896  1.4471         1       1       1\n",
       "1  0.86748  1.5136         1       1       1\n",
       "2  0.93476  1.7063         1       1       1\n",
       "3  0.90622  1.7889         1       1       1\n",
       "4  0.78113  1.7905         1       1       1"
      ]
     },
     "execution_count": 2,
     "metadata": {},
     "output_type": "execute_result"
    }
   ],
   "source": [
    "# Muestra primeros 5 registros\n",
    "df.head()"
   ]
  },
  {
   "cell_type": "code",
   "execution_count": 5,
   "metadata": {},
   "outputs": [],
   "source": [
    "#Se definen variables de entrada 'X' y salida 'y'\n",
    "feature_cols = ['DTBZ']\n",
    "X = df[feature_cols]\n",
    "y = df.ESTADO"
   ]
  },
  {
   "cell_type": "code",
   "execution_count": 6,
   "metadata": {},
   "outputs": [],
   "source": [
    "# Divide 'X' y 'y' en conjuntos de entrenamiento y prueba\n",
    "from sklearn.model_selection import train_test_split\n",
    "X_train, X_test, y_train, y_test = train_test_split(X, y)\n",
    "\n",
    "from sklearn.preprocessing import StandardScaler\n",
    "scaler = StandardScaler()\n",
    "scaler.fit(X_train)\n",
    "X_train = scaler.transform(X_train)\n",
    "X_test = scaler.transform(X_test)"
   ]
  },
  {
   "cell_type": "code",
   "execution_count": 7,
   "metadata": {},
   "outputs": [
    {
     "data": {
      "text/plain": [
       "MLPClassifier(activation='relu', alpha=0.0001, batch_size='auto', beta_1=0.9,\n",
       "       beta_2=0.999, early_stopping=False, epsilon=1e-08,\n",
       "       hidden_layer_sizes=(6, 6, 6, 6), learning_rate='constant',\n",
       "       learning_rate_init=0.001, max_iter=6000, momentum=0.9,\n",
       "       nesterovs_momentum=True, power_t=0.5, random_state=None,\n",
       "       shuffle=True, solver='adam', tol=0.0001, validation_fraction=0.1,\n",
       "       verbose=False, warm_start=False)"
      ]
     },
     "execution_count": 7,
     "metadata": {},
     "output_type": "execute_result"
    }
   ],
   "source": [
    "# Entrena el modelo de clasificación de Redes Neuronales en el conjunto de entrenamiento\n",
    "from sklearn.neural_network import MLPClassifier\n",
    "#mlp=MLPClassifier(hidden_layer_sizes=(12,12,12), max_iter=500, alpha=0.0001, solver='adam', random_state=1, tol=0.000000001)\n",
    "mlp = MLPClassifier(hidden_layer_sizes=(6,6,6,6),solver='adam',max_iter=6000)\n",
    "\n",
    "# Aprende la relación entre el conjunto de entrada y salida del conjunto de entrenamiento\n",
    "mlp.fit(X_train, y_train)"
   ]
  },
  {
   "cell_type": "code",
   "execution_count": 8,
   "metadata": {},
   "outputs": [
    {
     "name": "stdout",
     "output_type": "stream",
     "text": [
      "             precision    recall  f1-score   support\n",
      "\n",
      "          0       0.86      0.73      0.79      1387\n",
      "          1       0.87      0.94      0.91      2767\n",
      "\n",
      "avg / total       0.87      0.87      0.87      4154\n",
      "\n"
     ]
    }
   ],
   "source": [
    "#Realiza predicciones de clase para el conjunto de pruebas\n",
    "y_pred_class=mlp.predict(X_test)\n",
    "\n",
    "#Muestra métricas del clasificador\n",
    "from sklearn.metrics import classification_report\n",
    "print (classification_report(y_test, y_pred_class))"
   ]
  },
  {
   "cell_type": "code",
   "execution_count": 9,
   "metadata": {},
   "outputs": [
    {
     "name": "stdout",
     "output_type": "stream",
     "text": [
      "0.8707270101107366\n"
     ]
    }
   ],
   "source": [
    "# Calcula valor de predicción\n",
    "from sklearn import metrics\n",
    "print(metrics.accuracy_score(y_test, y_pred_class))"
   ]
  },
  {
   "cell_type": "code",
   "execution_count": 10,
   "metadata": {},
   "outputs": [
    {
     "data": {
      "text/plain": [
       "1    2767\n",
       "0    1387\n",
       "Name: ESTADO, dtype: int64"
      ]
     },
     "execution_count": 10,
     "metadata": {},
     "output_type": "execute_result"
    }
   ],
   "source": [
    "# Examina la distribución de clases del conjunto de pruebas\n",
    "y_test.value_counts()"
   ]
  },
  {
   "cell_type": "code",
   "execution_count": 11,
   "metadata": {},
   "outputs": [
    {
     "data": {
      "text/plain": [
       "0.6661049590755898"
      ]
     },
     "execution_count": 11,
     "metadata": {},
     "output_type": "execute_result"
    }
   ],
   "source": [
    "# Calcula el porcentaje de 'unos' presentes en el conjunto\n",
    "y_test.mean()"
   ]
  },
  {
   "cell_type": "code",
   "execution_count": 12,
   "metadata": {},
   "outputs": [
    {
     "data": {
      "text/plain": [
       "0.33389504092441025"
      ]
     },
     "execution_count": 12,
     "metadata": {},
     "output_type": "execute_result"
    }
   ],
   "source": [
    "# Calcula el porcentaje de 'ceros' presentes en el conjunto prueba\n",
    "1 - y_test.mean()"
   ]
  },
  {
   "cell_type": "code",
   "execution_count": 13,
   "metadata": {},
   "outputs": [
    {
     "data": {
      "text/plain": [
       "0.6661049590755898"
      ]
     },
     "execution_count": 13,
     "metadata": {},
     "output_type": "execute_result"
    }
   ],
   "source": [
    "# Calcula 'Null accuracy' (En problemas binarios)\n",
    "max(y_test.mean(), 1 - y_test.mean())"
   ]
  },
  {
   "cell_type": "code",
   "execution_count": 14,
   "metadata": {},
   "outputs": [
    {
     "data": {
      "text/plain": [
       "1    0.666105\n",
       "Name: ESTADO, dtype: float64"
      ]
     },
     "execution_count": 14,
     "metadata": {},
     "output_type": "execute_result"
    }
   ],
   "source": [
    "# Calcula 'Null accuracy' (Para problemas de clasificación multi-clase)\n",
    "y_test.value_counts().head(1) / len(y_test)"
   ]
  },
  {
   "cell_type": "code",
   "execution_count": 15,
   "metadata": {},
   "outputs": [
    {
     "name": "stdout",
     "output_type": "stream",
     "text": [
      "True: [1 0 0 1 1 1 0 1 1 0 1 0 1 1 1 1 1 0 1 0 1 1 0 1 0]\n",
      "Pred: [1 0 0 1 1 1 0 1 1 1 1 0 1 1 1 1 1 1 1 0 1 1 0 1 0]\n"
     ]
    }
   ],
   "source": [
    "# Muestra las primeras 25 respuestas verdaderas y predichas\n",
    "print('True:', y_test.values[0:25])\n",
    "print('Pred:', y_pred_class[0:25])"
   ]
  },
  {
   "cell_type": "markdown",
   "metadata": {},
   "source": [
    "### Matriz de Confusión\n",
    "\n",
    "<img src= \"images/matriz_confusion.png\" width=\"200\" height=\"200\"/>"
   ]
  },
  {
   "cell_type": "code",
   "execution_count": 16,
   "metadata": {},
   "outputs": [
    {
     "name": "stdout",
     "output_type": "stream",
     "text": [
      "[[1010  377]\n",
      " [ 160 2607]]\n"
     ]
    }
   ],
   "source": [
    "print(metrics.confusion_matrix(y_test, y_pred_class))"
   ]
  },
  {
   "cell_type": "code",
   "execution_count": 17,
   "metadata": {},
   "outputs": [],
   "source": [
    "# Guarda la matriz de confusion y la secciona en 4 partes\n",
    "confusion = metrics.confusion_matrix(y_test, y_pred_class)\n",
    "VP = confusion[1, 1]\n",
    "VN = confusion[0, 0]\n",
    "FP = confusion[0, 1]\n",
    "FN = confusion[1, 0]"
   ]
  },
  {
   "cell_type": "code",
   "execution_count": 18,
   "metadata": {},
   "outputs": [
    {
     "name": "stdout",
     "output_type": "stream",
     "text": [
      "0.8707270101107366\n",
      "0.8707270101107366\n"
     ]
    }
   ],
   "source": [
    "print((VP + VN) / float(VP + VN + FP + FN))\n",
    "print(metrics.accuracy_score(y_test, y_pred_class))"
   ]
  },
  {
   "cell_type": "code",
   "execution_count": 19,
   "metadata": {},
   "outputs": [
    {
     "name": "stdout",
     "output_type": "stream",
     "text": [
      "0.12927298988926336\n",
      "0.1292729898892634\n"
     ]
    }
   ],
   "source": [
    "#Error de Clasificación (Tasa de clasificación errónea)\n",
    "print((FP + FN) / float(VP + VN + FP + FN))\n",
    "print(1 - metrics.accuracy_score(y_test, y_pred_class))"
   ]
  },
  {
   "cell_type": "code",
   "execution_count": 20,
   "metadata": {},
   "outputs": [
    {
     "name": "stdout",
     "output_type": "stream",
     "text": [
      "0.9421756414889773\n",
      "0.9421756414889773\n"
     ]
    }
   ],
   "source": [
    "#Sensibilidad (Detección de casos positivos)\n",
    "print(VP / float(VP + FN))\n",
    "print(metrics.recall_score(y_test, y_pred_class))"
   ]
  },
  {
   "cell_type": "code",
   "execution_count": 21,
   "metadata": {},
   "outputs": [
    {
     "name": "stdout",
     "output_type": "stream",
     "text": [
      "0.7281903388608507\n"
     ]
    }
   ],
   "source": [
    "#Especificiadad: Cuando el valor real es negativo, ¿con qué frecuencia es correcta la predicción?\n",
    "print(VN / float(VN + FP))"
   ]
  },
  {
   "cell_type": "code",
   "execution_count": 22,
   "metadata": {},
   "outputs": [
    {
     "name": "stdout",
     "output_type": "stream",
     "text": [
      "0.27180966113914923\n"
     ]
    }
   ],
   "source": [
    "#Tasa Falso Positivo\n",
    "print(FP / float(VN + FP))"
   ]
  },
  {
   "cell_type": "code",
   "execution_count": 23,
   "metadata": {},
   "outputs": [
    {
     "name": "stdout",
     "output_type": "stream",
     "text": [
      "0.8736595174262735\n"
     ]
    }
   ],
   "source": [
    "#Precisión (En casos positivos)\n",
    "print(VP / float(VP + FP))\n",
    "#print(metrics.precision_score(y_test, y_pred_class))"
   ]
  },
  {
   "cell_type": "code",
   "execution_count": 24,
   "metadata": {},
   "outputs": [
    {
     "data": {
      "text/plain": [
       "array([1, 0, 0, 1, 1, 1, 0, 1, 1, 1], dtype=int64)"
      ]
     },
     "execution_count": 24,
     "metadata": {},
     "output_type": "execute_result"
    }
   ],
   "source": [
    "# Muestra la predicción de las primeras 10 respuestas\n",
    "mlp.predict(X_test)[0:10]"
   ]
  },
  {
   "cell_type": "code",
   "execution_count": 25,
   "metadata": {},
   "outputs": [
    {
     "data": {
      "text/plain": [
       "array([[0.10141128, 0.89858872],\n",
       "       [0.93700723, 0.06299277],\n",
       "       [0.72193635, 0.27806365],\n",
       "       [0.09750268, 0.90249732],\n",
       "       [0.04129308, 0.95870692],\n",
       "       [0.085706  , 0.914294  ],\n",
       "       [0.74107402, 0.25892598],\n",
       "       [0.02451924, 0.97548076],\n",
       "       [0.02124318, 0.97875682],\n",
       "       [0.33931496, 0.66068504]])"
      ]
     },
     "execution_count": 25,
     "metadata": {},
     "output_type": "execute_result"
    }
   ],
   "source": [
    "# Muestra las primeras 10 probabilidades predichas de pertenencia a clases\n",
    "mlp.predict_proba(X_test)[0:10, :]"
   ]
  },
  {
   "cell_type": "code",
   "execution_count": 26,
   "metadata": {},
   "outputs": [
    {
     "data": {
      "text/plain": [
       "array([0.89858872, 0.06299277, 0.27806365, 0.90249732, 0.95870692,\n",
       "       0.914294  , 0.25892598, 0.97548076, 0.97875682, 0.66068504])"
      ]
     },
     "execution_count": 26,
     "metadata": {},
     "output_type": "execute_result"
    }
   ],
   "source": [
    "# Muestra las primeras 10 probabilidades predichas para la clase 1\n",
    "mlp.predict_proba(X_test)[0:10, 1]"
   ]
  },
  {
   "cell_type": "code",
   "execution_count": 27,
   "metadata": {},
   "outputs": [],
   "source": [
    "y_pred_prob = mlp.predict_proba(X_test)[:, 1]"
   ]
  },
  {
   "cell_type": "code",
   "execution_count": 28,
   "metadata": {},
   "outputs": [],
   "source": [
    "%matplotlib inline\n",
    "import matplotlib.pyplot as plt"
   ]
  },
  {
   "cell_type": "code",
   "execution_count": 38,
   "metadata": {},
   "outputs": [
    {
     "data": {
      "image/png": "[encoded data removed]",
      "text/plain": [
       "<Figure size 432x288 with 1 Axes>"
      ]
     },
     "metadata": {},
     "output_type": "display_data"
    }
   ],
   "source": [
    "# histograma de probabilidades predichas\n",
    "plt.hist(y_pred_prob, bins=8)\n",
    "plt.xlim(0, 1)\n",
    "plt.title('Histograma de probabilidades predichas')\n",
    "plt.xlabel('Probabilidades predichas de Parkinson')\n",
    "plt.ylabel('Frecuencia')\n",
    "plt.savefig('histo_nn_RAC.png')"
   ]
  },
  {
   "cell_type": "code",
   "execution_count": 30,
   "metadata": {},
   "outputs": [],
   "source": [
    "# predice Parkinson si la probabilidad pronosticada es mayor a 0.3\n",
    "from sklearn.preprocessing import binarize\n",
    "y_pred_class = binarize([y_pred_prob], 0.3)[0]"
   ]
  },
  {
   "cell_type": "code",
   "execution_count": 31,
   "metadata": {},
   "outputs": [
    {
     "data": {
      "text/plain": [
       "array([0.89858872, 0.06299277, 0.27806365, 0.90249732, 0.95870692,\n",
       "       0.914294  , 0.25892598, 0.97548076, 0.97875682, 0.66068504])"
      ]
     },
     "execution_count": 31,
     "metadata": {},
     "output_type": "execute_result"
    }
   ],
   "source": [
    "# Muestra las primeras 10 probabilidades predichas\n",
    "y_pred_prob[0:10]"
   ]
  },
  {
   "cell_type": "code",
   "execution_count": 32,
   "metadata": {},
   "outputs": [
    {
     "name": "stdout",
     "output_type": "stream",
     "text": [
      "[[1010  377]\n",
      " [ 160 2607]]\n"
     ]
    }
   ],
   "source": [
    "# Matriz de confusión previa (umbral por defecto 0.5)\n",
    "print(confusion)"
   ]
  },
  {
   "cell_type": "code",
   "execution_count": 42,
   "metadata": {},
   "outputs": [
    {
     "name": "stdout",
     "output_type": "stream",
     "text": [
      "[[ 860  527]\n",
      " [  95 2672]]\n"
     ]
    }
   ],
   "source": [
    "# Nueva matriz de confusión (Umbral de 0.3)\n",
    "print(metrics.confusion_matrix(y_test, y_pred_class))"
   ]
  },
  {
   "cell_type": "code",
   "execution_count": 47,
   "metadata": {},
   "outputs": [],
   "source": [
    "#Guarda nueva matriz de confusión (umbral 0.3)\n",
    "nueva_conf = metrics.confusion_matrix(y_test, y_pred_class)\n",
    "VP2 = nueva_conf[1, 1]\n",
    "VN2 = nueva_conf[0, 0]\n",
    "FP2 = nueva_conf[0, 1]\n",
    "FN2 = nueva_conf[1, 0]"
   ]
  },
  {
   "cell_type": "code",
   "execution_count": 50,
   "metadata": {},
   "outputs": [
    {
     "name": "stdout",
     "output_type": "stream",
     "text": [
      "0.9656667871340803\n",
      "0.9656667871340803\n"
     ]
    }
   ],
   "source": [
    "# Ha incrementado la Sensibilidad (Solía ser 0.94)\n",
    "print(VP2 / float(VP2 + FN2))\n",
    "print(metrics.recall_score(y_test, y_pred_class))"
   ]
  },
  {
   "cell_type": "code",
   "execution_count": 52,
   "metadata": {},
   "outputs": [
    {
     "name": "stdout",
     "output_type": "stream",
     "text": [
      "0.6200432588320115\n"
     ]
    }
   ],
   "source": [
    "# Ha disminuído la Especificidad (Solía ser 0.73)\n",
    "print(VN2 / float(VN2 + FP2))"
   ]
  },
  {
   "cell_type": "code",
   "execution_count": 39,
   "metadata": {},
   "outputs": [
    {
     "data": {
      "image/png": "[encoded data removed]",
      "text/plain": [
       "<Figure size 432x288 with 1 Axes>"
      ]
     },
     "metadata": {},
     "output_type": "display_data"
    }
   ],
   "source": [
    "# IMPORTANTE: Pareja ordenada (valores reales, probabilidades predichas)\n",
    "fpr, tpr, thresholds = metrics.roc_curve(y_test, y_pred_prob)\n",
    "plt.plot(fpr, tpr)\n",
    "plt.xlim([0.0, 1.0])\n",
    "plt.ylim([0.0, 1.0])\n",
    "plt.title('Curva ROC para clasificador de Parkinson')\n",
    "plt.xlabel('Tasa Falso Positivo (1 - Especificidad)')\n",
    "plt.ylabel('Tasa Verdadero (Sensibilidad)')\n",
    "plt.grid(True)\n",
    "plt.savefig('ROC_nn_RAC.png')"
   ]
  },
  {
   "cell_type": "code",
   "execution_count": 53,
   "metadata": {},
   "outputs": [],
   "source": [
    "def evaluate_threshold(threshold):\n",
    "    print('Sensitividad:', tpr[thresholds > threshold][-1])\n",
    "    print('Especificidad:', 1 - fpr[thresholds > threshold][-1])"
   ]
  },
  {
   "cell_type": "code",
   "execution_count": 54,
   "metadata": {},
   "outputs": [
    {
     "name": "stdout",
     "output_type": "stream",
     "text": [
      "Sensitividad: 0.9421756414889773\n",
      "Especificidad: 0.7281903388608508\n"
     ]
    }
   ],
   "source": [
    "evaluate_threshold(0.5)"
   ]
  },
  {
   "cell_type": "code",
   "execution_count": 55,
   "metadata": {},
   "outputs": [
    {
     "name": "stdout",
     "output_type": "stream",
     "text": [
      "Sensitividad: 0.9656667871340803\n",
      "Especificidad: 0.6200432588320115\n"
     ]
    }
   ],
   "source": [
    "evaluate_threshold(0.3)"
   ]
  },
  {
   "cell_type": "code",
   "execution_count": 56,
   "metadata": {},
   "outputs": [
    {
     "name": "stdout",
     "output_type": "stream",
     "text": [
      "0.928999311850528\n"
     ]
    }
   ],
   "source": [
    "print(metrics.roc_auc_score(y_test, y_pred_prob))"
   ]
  },
  {
   "cell_type": "code",
   "execution_count": 57,
   "metadata": {},
   "outputs": [
    {
     "data": {
      "text/plain": [
       "0.9154628381381729"
      ]
     },
     "execution_count": 57,
     "metadata": {},
     "output_type": "execute_result"
    }
   ],
   "source": [
    "from sklearn.model_selection import cross_val_score\n",
    "cross_val_score(mlp, X, y, cv=10, scoring='roc_auc').mean()"
   ]
  },
  {
   "cell_type": "code",
   "execution_count": null,
   "metadata": {},
   "outputs": [],
   "source": []
  }
 ],
 "metadata": {
  "kernelspec": {
   "display_name": "Python 3",
   "language": "python",
   "name": "python3"
  },
  "language_info": {
   "codemirror_mode": {
    "name": "ipython",
    "version": 3
   },
   "file_extension": ".py",
   "mimetype": "text/x-python",
   "name": "python",
   "nbconvert_exporter": "python",
   "pygments_lexer": "ipython3",
   "version": "3.6.5"
  }
 },
 "nbformat": 4,
 "nbformat_minor": 2
}
