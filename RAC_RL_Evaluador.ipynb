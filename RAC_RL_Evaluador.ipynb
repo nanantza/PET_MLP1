{
 "cells": [
  {
   "cell_type": "code",
   "execution_count": 1,
   "metadata": {},
   "outputs": [],
   "source": [
    "# Lee DataFrame como archivo de pandas\n",
    "import pandas as pd\n",
    "df = pd.read_csv('data/DATOS_TODOS.csv')"
   ]
  },
  {
   "cell_type": "code",
   "execution_count": 2,
   "metadata": {},
   "outputs": [
    {
     "data": {
      "text/html": [
       "<div>\n",
       "<style scoped>\n",
       "    .dataframe tbody tr th:only-of-type {\n",
       "        vertical-align: middle;\n",
       "    }\n",
       "\n",
       "    .dataframe tbody tr th {\n",
       "        vertical-align: top;\n",
       "    }\n",
       "\n",
       "    .dataframe thead th {\n",
       "        text-align: right;\n",
       "    }\n",
       "</style>\n",
       "<table border=\"1\" class=\"dataframe\">\n",
       "  <thead>\n",
       "    <tr style=\"text-align: right;\">\n",
       "      <th></th>\n",
       "      <th>DTBZ</th>\n",
       "      <th>RAC</th>\n",
       "      <th>PACIENTE</th>\n",
       "      <th>REGION</th>\n",
       "      <th>ESTADO</th>\n",
       "    </tr>\n",
       "  </thead>\n",
       "  <tbody>\n",
       "    <tr>\n",
       "      <th>0</th>\n",
       "      <td>0.89896</td>\n",
       "      <td>1.4471</td>\n",
       "      <td>1</td>\n",
       "      <td>1</td>\n",
       "      <td>1</td>\n",
       "    </tr>\n",
       "    <tr>\n",
       "      <th>1</th>\n",
       "      <td>0.86748</td>\n",
       "      <td>1.5136</td>\n",
       "      <td>1</td>\n",
       "      <td>1</td>\n",
       "      <td>1</td>\n",
       "    </tr>\n",
       "    <tr>\n",
       "      <th>2</th>\n",
       "      <td>0.93476</td>\n",
       "      <td>1.7063</td>\n",
       "      <td>1</td>\n",
       "      <td>1</td>\n",
       "      <td>1</td>\n",
       "    </tr>\n",
       "    <tr>\n",
       "      <th>3</th>\n",
       "      <td>0.90622</td>\n",
       "      <td>1.7889</td>\n",
       "      <td>1</td>\n",
       "      <td>1</td>\n",
       "      <td>1</td>\n",
       "    </tr>\n",
       "    <tr>\n",
       "      <th>4</th>\n",
       "      <td>0.78113</td>\n",
       "      <td>1.7905</td>\n",
       "      <td>1</td>\n",
       "      <td>1</td>\n",
       "      <td>1</td>\n",
       "    </tr>\n",
       "  </tbody>\n",
       "</table>\n",
       "</div>"
      ],
      "text/plain": [
       "      DTBZ     RAC  PACIENTE  REGION  ESTADO\n",
       "0  0.89896  1.4471         1       1       1\n",
       "1  0.86748  1.5136         1       1       1\n",
       "2  0.93476  1.7063         1       1       1\n",
       "3  0.90622  1.7889         1       1       1\n",
       "4  0.78113  1.7905         1       1       1"
      ]
     },
     "execution_count": 2,
     "metadata": {},
     "output_type": "execute_result"
    }
   ],
   "source": [
    "# Muestra primeros 5 registros\n",
    "df.head()"
   ]
  },
  {
   "cell_type": "code",
   "execution_count": 3,
   "metadata": {},
   "outputs": [],
   "source": [
    "# define variables 'X' y 'y'\n",
    "feature_cols = ['DTBZ']\n",
    "X = df[feature_cols]\n",
    "y = df.ESTADO"
   ]
  },
  {
   "cell_type": "code",
   "execution_count": 4,
   "metadata": {},
   "outputs": [],
   "source": [
    "# Divide 'X' y 'y' en conjuntos de entrenamiento y prueba\n",
    "from sklearn.model_selection import train_test_split\n",
    "X_train, X_test, y_train, y_test = train_test_split(X, y, random_state=0)"
   ]
  },
  {
   "cell_type": "code",
   "execution_count": 5,
   "metadata": {},
   "outputs": [
    {
     "data": {
      "text/plain": [
       "LogisticRegression(C=1.0, class_weight=None, dual=False, fit_intercept=True,\n",
       "          intercept_scaling=1, max_iter=100, multi_class='ovr', n_jobs=1,\n",
       "          penalty='l2', random_state=None, solver='liblinear', tol=0.0001,\n",
       "          verbose=0, warm_start=False)"
      ]
     },
     "execution_count": 5,
     "metadata": {},
     "output_type": "execute_result"
    }
   ],
   "source": [
    "# Entrena un modelo de Regresión Logística en el conjunto de entrenamiento\n",
    "from sklearn.linear_model import LogisticRegression\n",
    "logreg = LogisticRegression()\n",
    "\n",
    "#Aprende la relación entre el conjunto de entrada y salida del conjunto de entrenamiento\n",
    "logreg.fit(X_train, y_train)"
   ]
  },
  {
   "cell_type": "code",
   "execution_count": 6,
   "metadata": {},
   "outputs": [
    {
     "name": "stdout",
     "output_type": "stream",
     "text": [
      "             precision    recall  f1-score   support\n",
      "\n",
      "          0       0.83      0.76      0.79      1366\n",
      "          1       0.89      0.92      0.90      2788\n",
      "\n",
      "avg / total       0.87      0.87      0.87      4154\n",
      "\n"
     ]
    }
   ],
   "source": [
    "# Realiza predicciones de clase para el conjunto de pruebas\n",
    "y_pred_class = logreg.predict(X_test)\n",
    "\n",
    "#Muestra métricas del clasificador\n",
    "from sklearn.metrics import classification_report\n",
    "print (classification_report(y_test, y_pred_class))"
   ]
  },
  {
   "cell_type": "markdown",
   "metadata": {},
   "source": [
    "**Precisión de Clasificación:** Porcentaje de predicciones correctas"
   ]
  },
  {
   "cell_type": "code",
   "execution_count": 7,
   "metadata": {},
   "outputs": [
    {
     "name": "stdout",
     "output_type": "stream",
     "text": [
      "0.869041887337506\n"
     ]
    }
   ],
   "source": [
    "# calculate accuracy\n",
    "from sklearn import metrics\n",
    "print(metrics.accuracy_score(y_test, y_pred_class))"
   ]
  },
  {
   "cell_type": "markdown",
   "metadata": {},
   "source": [
    "Es importante comparar la métrica de evaluación **Accuracy** con **Null Accuracy** que es la precisión que se podría lograr al siempre predecir la clase mas frecuente en el conjunto de prueba."
   ]
  },
  {
   "cell_type": "code",
   "execution_count": 8,
   "metadata": {},
   "outputs": [
    {
     "data": {
      "text/plain": [
       "1    2788\n",
       "0    1366\n",
       "Name: ESTADO, dtype: int64"
      ]
     },
     "execution_count": 8,
     "metadata": {},
     "output_type": "execute_result"
    }
   ],
   "source": [
    "# Examina la distribución de clases del conjunto de pruebas\n",
    "y_test.value_counts()"
   ]
  },
  {
   "cell_type": "code",
   "execution_count": 9,
   "metadata": {},
   "outputs": [
    {
     "data": {
      "text/plain": [
       "0.6711603273952816"
      ]
     },
     "execution_count": 9,
     "metadata": {},
     "output_type": "execute_result"
    }
   ],
   "source": [
    "# Calcula el porcentaje de 'unos' presentes en el conjunto\n",
    "y_test.mean()"
   ]
  },
  {
   "cell_type": "code",
   "execution_count": 10,
   "metadata": {},
   "outputs": [
    {
     "data": {
      "text/plain": [
       "0.32883967260471836"
      ]
     },
     "execution_count": 10,
     "metadata": {},
     "output_type": "execute_result"
    }
   ],
   "source": [
    "# Calcula el porcentaje de 'ceros' presentes en el conjunto\n",
    "1 - y_test.mean()"
   ]
  },
  {
   "cell_type": "code",
   "execution_count": 11,
   "metadata": {},
   "outputs": [
    {
     "data": {
      "text/plain": [
       "0.6711603273952816"
      ]
     },
     "execution_count": 11,
     "metadata": {},
     "output_type": "execute_result"
    }
   ],
   "source": [
    "# Calcula 'Null accuracy' (En problemas binarios)\n",
    "max(y_test.mean(), 1 - y_test.mean())"
   ]
  },
  {
   "cell_type": "markdown",
   "metadata": {},
   "source": [
    "Dado que solo se tienen dos clases, el valor de la clase con mayor porcentaje será el valor de *Null Accuracy*\n",
    "\n",
    "Ya que 67%>32%, *Null Accuracy* se representa en el conjunto de 'Unos'. Un modelo que predice si un paciente tiene Parkinson será correcto 67% de las veces"
   ]
  },
  {
   "cell_type": "code",
   "execution_count": 12,
   "metadata": {},
   "outputs": [
    {
     "data": {
      "text/plain": [
       "1    0.67116\n",
       "Name: ESTADO, dtype: float64"
      ]
     },
     "execution_count": 12,
     "metadata": {},
     "output_type": "execute_result"
    }
   ],
   "source": [
    "# Calcula 'Null accuracy' (Para problemas de clasificación multi-clase)\n",
    "y_test.value_counts().head(1) / len(y_test)"
   ]
  },
  {
   "cell_type": "markdown",
   "metadata": {},
   "source": [
    "Comparación de valores de respuesta **verdaderos** y **predicciones**"
   ]
  },
  {
   "cell_type": "code",
   "execution_count": 13,
   "metadata": {},
   "outputs": [
    {
     "name": "stdout",
     "output_type": "stream",
     "text": [
      "True: [1 1 1 1 1 1 1 1 1 1 0 0 1 1 1 1 0 0 1 1 1 0 0 0 0]\n",
      "Pred: [1 1 1 1 1 1 1 1 1 1 0 0 1 0 0 1 0 1 1 0 1 0 0 0 0]\n"
     ]
    }
   ],
   "source": [
    "# Muestra las primeras 25 predicciones verdaderas\n",
    "print('True:', y_test.values[0:25])\n",
    "print('Pred:', y_pred_class[0:25])"
   ]
  },
  {
   "cell_type": "markdown",
   "metadata": {},
   "source": [
    "## Matriz de Confusión\n",
    "\n",
    "Describe el rendimiento del modelo de clasificación\n",
    "\n",
    "   ![Matriz de confusion](images/matriz_confusion.png)"
   ]
  },
  {
   "cell_type": "code",
   "execution_count": 14,
   "metadata": {},
   "outputs": [
    {
     "name": "stdout",
     "output_type": "stream",
     "text": [
      "[[1035  331]\n",
      " [ 213 2575]]\n"
     ]
    }
   ],
   "source": [
    "# IMPORTANTE: Pareja ordenada (valores verdaderos, valores predichos)\n",
    "print(metrics.confusion_matrix(y_test, y_pred_class))"
   ]
  },
  {
   "cell_type": "markdown",
   "metadata": {},
   "source": [
    "**Terminología**\n",
    "\n",
    "- **Verdadero Positivo (VP):** Predice *correctamente* paciente *con* Parkinson\n",
    "- **Verdadero Negativo (VN):** Predice *correctamente* paciente *sin* Parkinson\n",
    "- **Falso Positivo (FP):** Predice *incorrectamente* paciente *con* Parkinson\n",
    "- **Falso Negativo (FN):** Predice *incorrectamente* paciente *sin* Parkinson"
   ]
  },
  {
   "cell_type": "code",
   "execution_count": 15,
   "metadata": {},
   "outputs": [],
   "source": [
    "# save confusion matrix and slice into four pieces\n",
    "confusion = metrics.confusion_matrix(y_test, y_pred_class)\n",
    "VP = confusion[1, 1]\n",
    "VN = confusion[0, 0]\n",
    "FP = confusion[0, 1]\n",
    "FN = confusion[1, 0]"
   ]
  },
  {
   "cell_type": "markdown",
   "metadata": {},
   "source": [
    "## Metrics computed from a confusion matrix\n",
    "\n",
    "**Classification Accuracy:** Overall, how often is the classifier correct?"
   ]
  },
  {
   "cell_type": "code",
   "execution_count": 16,
   "metadata": {},
   "outputs": [
    {
     "name": "stdout",
     "output_type": "stream",
     "text": [
      "0.869041887337506\n",
      "0.869041887337506\n"
     ]
    }
   ],
   "source": [
    "print((VP + VN) / float(VP + VN + FP + FN))\n",
    "print(metrics.accuracy_score(y_test, y_pred_class))"
   ]
  },
  {
   "cell_type": "markdown",
   "metadata": {},
   "source": [
    "**Error de Clasificación:** ¿Con qué frecuencia es incorrecto el clasificador?\n",
    "\n",
    "\n",
    "- También conocido como \"Tasa de clasificación errónea\""
   ]
  },
  {
   "cell_type": "code",
   "execution_count": 17,
   "metadata": {},
   "outputs": [
    {
     "name": "stdout",
     "output_type": "stream",
     "text": [
      "0.130958112662494\n",
      "0.13095811266249402\n"
     ]
    }
   ],
   "source": [
    "print((FP + FN) / float(VP + VN + FP + FN))\n",
    "print(1 - metrics.accuracy_score(y_test, y_pred_class))"
   ]
  },
  {
   "cell_type": "markdown",
   "metadata": {},
   "source": [
    "**Sensibilidad:** Cuando el valor real es positivo, ¿Con qué frecuencia es correcta la predicción?\n",
    "- ¿Cuan \"sensible\" es el clasificador para detectar casos positivos?"
   ]
  },
  {
   "cell_type": "code",
   "execution_count": 18,
   "metadata": {},
   "outputs": [
    {
     "name": "stdout",
     "output_type": "stream",
     "text": [
      "0.9236011477761836\n",
      "0.9236011477761836\n"
     ]
    }
   ],
   "source": [
    "print(VP / float(VP + FN))\n",
    "print(metrics.recall_score(y_test, y_pred_class))"
   ]
  },
  {
   "cell_type": "markdown",
   "metadata": {},
   "source": [
    "**Especificidad:** ¿Cuando el valor real es negativo, ¿con qué frecuencia es correcta la predicción?\n",
    "\n",
    "- ¿Qué tan \"específico\" (o \"selectivo\") es el clasificador para predecir casos positivos?"
   ]
  },
  {
   "cell_type": "code",
   "execution_count": 19,
   "metadata": {},
   "outputs": [
    {
     "name": "stdout",
     "output_type": "stream",
     "text": [
      "0.7576866764275256\n"
     ]
    }
   ],
   "source": [
    "print(VN / float(VN + FP))"
   ]
  },
  {
   "cell_type": "markdown",
   "metadata": {},
   "source": [
    "**Tasa Falso Positivo:** Cuando el valor real es negativo, ¿Con qué frecuencia es incorrecta la predicción?"
   ]
  },
  {
   "cell_type": "code",
   "execution_count": 20,
   "metadata": {},
   "outputs": [
    {
     "name": "stdout",
     "output_type": "stream",
     "text": [
      "0.24231332357247437\n"
     ]
    }
   ],
   "source": [
    "print(FP / float(VN + FP))"
   ]
  },
  {
   "cell_type": "markdown",
   "metadata": {},
   "source": [
    "**Precisión:** Cuando se predice un valor positivo, ¿Con qué frecuencia es correcta la predicción?\n",
    "\n",
    "- ¿Qué tan preciso es el clasificador al predecir casos positivos?"
   ]
  },
  {
   "cell_type": "code",
   "execution_count": 21,
   "metadata": {},
   "outputs": [
    {
     "name": "stdout",
     "output_type": "stream",
     "text": [
      "0.8860977288368892\n",
      "0.8860977288368892\n"
     ]
    }
   ],
   "source": [
    "print(VP / float(VP + FP))\n",
    "print(metrics.precision_score(y_test, y_pred_class))"
   ]
  },
  {
   "cell_type": "code",
   "execution_count": 22,
   "metadata": {},
   "outputs": [
    {
     "data": {
      "text/plain": [
       "array([1, 1, 1, 1, 1, 1, 1, 1, 1, 1], dtype=int64)"
      ]
     },
     "execution_count": 22,
     "metadata": {},
     "output_type": "execute_result"
    }
   ],
   "source": [
    "# Muestra la predicción de las primeras 10 respuestas\n",
    "logreg.predict(X_test)[0:10]"
   ]
  },
  {
   "cell_type": "code",
   "execution_count": 23,
   "metadata": {},
   "outputs": [
    {
     "data": {
      "text/plain": [
       "array([[0.44626371, 0.55373629],\n",
       "       [0.0312798 , 0.9687202 ],\n",
       "       [0.02787441, 0.97212559],\n",
       "       [0.09869622, 0.90130378],\n",
       "       [0.07211954, 0.92788046],\n",
       "       [0.0266257 , 0.9733743 ],\n",
       "       [0.04118089, 0.95881911],\n",
       "       [0.01989126, 0.98010874],\n",
       "       [0.24120929, 0.75879071],\n",
       "       [0.08949164, 0.91050836]])"
      ]
     },
     "execution_count": 23,
     "metadata": {},
     "output_type": "execute_result"
    }
   ],
   "source": [
    "# Muestra las primeras 10 probabilidades predichas de pertenencia a clases\n",
    "logreg.predict_proba(X_test)[0:10, :]"
   ]
  },
  {
   "cell_type": "markdown",
   "metadata": {},
   "source": [
    "### **Es importante notar los valores tomados del conjunto de prueba en RAC y DTBZ para entender el por qué del porcentaje de clasificación**"
   ]
  },
  {
   "cell_type": "code",
   "execution_count": 24,
   "metadata": {},
   "outputs": [
    {
     "data": {
      "text/plain": [
       "array([0.55373629, 0.9687202 , 0.97212559, 0.90130378, 0.92788046,\n",
       "       0.9733743 , 0.95881911, 0.98010874, 0.75879071, 0.91050836])"
      ]
     },
     "execution_count": 24,
     "metadata": {},
     "output_type": "execute_result"
    }
   ],
   "source": [
    "# Muestra las primeras 10 probabilidades predichas para la clase 1\n",
    "logreg.predict_proba(X_test)[0:10, 1]"
   ]
  },
  {
   "cell_type": "code",
   "execution_count": 25,
   "metadata": {},
   "outputs": [],
   "source": [
    "y_pred_prob = logreg.predict_proba(X_test)[:, 1]"
   ]
  },
  {
   "cell_type": "code",
   "execution_count": 26,
   "metadata": {},
   "outputs": [],
   "source": [
    "%matplotlib inline\n",
    "import matplotlib.pyplot as plt"
   ]
  },
  {
   "cell_type": "code",
   "execution_count": 27,
   "metadata": {},
   "outputs": [
    {
     "data": {
      "text/plain": [
       "Text(0,0.5,'Frecuencia')"
      ]
     },
     "execution_count": 27,
     "metadata": {},
     "output_type": "execute_result"
    },
    {
     "data": {
      "image/png": "[encoded data removed]",
      "text/plain": [
       "<Figure size 432x288 with 1 Axes>"
      ]
     },
     "metadata": {},
     "output_type": "display_data"
    }
   ],
   "source": [
    "# histograma de probabilidades predichas\n",
    "plt.hist(y_pred_prob, bins=8)\n",
    "plt.xlim(0, 1)\n",
    "plt.title('Histograma de Predicción de probabilidades (base RAC)')\n",
    "plt.xlabel('Probabilidades predichas de Parkinson')\n",
    "plt.ylabel('Frecuencia')\n",
    "#plt.savefig('histo_RL_RAC.png')"
   ]
  },
  {
   "cell_type": "markdown",
   "metadata": {},
   "source": [
    "**Disminuye** el umbral para predecir el Parkinson con el fin de **aumentar la sensibilidad** del clasificador"
   ]
  },
  {
   "cell_type": "code",
   "execution_count": 28,
   "metadata": {},
   "outputs": [],
   "source": [
    "# predice Parkinson si la probabilidad pronosticada es mayor a 0.3\n",
    "from sklearn.preprocessing import binarize\n",
    "y_pred_class = binarize([y_pred_prob], 0.3)[0]"
   ]
  },
  {
   "cell_type": "code",
   "execution_count": 29,
   "metadata": {},
   "outputs": [
    {
     "data": {
      "text/plain": [
       "array([0.55373629, 0.9687202 , 0.97212559, 0.90130378, 0.92788046,\n",
       "       0.9733743 , 0.95881911, 0.98010874, 0.75879071, 0.91050836])"
      ]
     },
     "execution_count": 29,
     "metadata": {},
     "output_type": "execute_result"
    }
   ],
   "source": [
    "# Muestra las primeras 10 probabilidades predichas\n",
    "y_pred_prob[0:10]"
   ]
  },
  {
   "cell_type": "code",
   "execution_count": 30,
   "metadata": {},
   "outputs": [
    {
     "name": "stdout",
     "output_type": "stream",
     "text": [
      "[[1035  331]\n",
      " [ 213 2575]]\n"
     ]
    }
   ],
   "source": [
    "# Matriz de confusión previa (umbral por defecto 0.5)\n",
    "print(confusion)"
   ]
  },
  {
   "cell_type": "code",
   "execution_count": 31,
   "metadata": {},
   "outputs": [
    {
     "name": "stdout",
     "output_type": "stream",
     "text": [
      "[[ 891  475]\n",
      " [ 100 2688]]\n"
     ]
    }
   ],
   "source": [
    "# Nueva matriz de confusión (Umbral de 0.3)\n",
    "print(metrics.confusion_matrix(y_test, y_pred_class))"
   ]
  },
  {
   "cell_type": "code",
   "execution_count": 32,
   "metadata": {},
   "outputs": [],
   "source": [
    "#Guarda nueva matriz de confusión (umbral 0.3)\n",
    "nueva_conf = metrics.confusion_matrix(y_test, y_pred_class)\n",
    "VP2 = nueva_conf[1, 1]\n",
    "VN2 = nueva_conf[0, 0]\n",
    "FP2 = nueva_conf[0, 1]\n",
    "FN2 = nueva_conf[1, 0]"
   ]
  },
  {
   "cell_type": "code",
   "execution_count": 33,
   "metadata": {},
   "outputs": [
    {
     "name": "stdout",
     "output_type": "stream",
     "text": [
      "0.9641319942611191\n",
      "0.9641319942611191\n"
     ]
    }
   ],
   "source": [
    "# Ha incrementado la Sensibilidad (Solía ser 0.92)\n",
    "print(VP2 / float(VP2 + FN2))\n",
    "print(metrics.recall_score(y_test, y_pred_class))"
   ]
  },
  {
   "cell_type": "code",
   "execution_count": 34,
   "metadata": {},
   "outputs": [
    {
     "name": "stdout",
     "output_type": "stream",
     "text": [
      "0.6522693997071742\n"
     ]
    }
   ],
   "source": [
    "# Ha disminuído la Especificidad (Solía ser 0.75)\n",
    "print(VN2 / float(VN2 + FP2))"
   ]
  },
  {
   "cell_type": "markdown",
   "metadata": {},
   "source": [
    "**Conclusión:**\n",
    "\n",
    "- El **0.5 de Umbral** es usado por defecto (para problemas binarios) para convertir las probabilidades predichas en predicciones de clases\n",
    "- El Umbral puede ser **ajustado** para incrementar o disminuír la Sensibilidad o Especificidad\n",
    "- La Sensibilidad y Especificidad tienen una **relación inversa**"
   ]
  },
  {
   "cell_type": "markdown",
   "metadata": {},
   "source": [
    "## Curvas ROC y Área bajo la curva\n",
    "\n"
   ]
  },
  {
   "cell_type": "code",
   "execution_count": 35,
   "metadata": {},
   "outputs": [
    {
     "data": {
      "image/png": "[encoded data removed]",
      "text/plain": [
       "<Figure size 432x288 with 1 Axes>"
      ]
     },
     "metadata": {},
     "output_type": "display_data"
    }
   ],
   "source": [
    "# IMPORTANTE: Pareja ordenada (valores reales, probabilidades predichas)\n",
    "fpr, tpr, thresholds = metrics.roc_curve(y_test, y_pred_prob)\n",
    "plt.plot(fpr, tpr)\n",
    "plt.xlim([0.0, 1.0])\n",
    "plt.ylim([0.0, 1.0])\n",
    "plt.title('Curva ROC para clasificador de Parkinson por DTBZ')\n",
    "plt.xlabel('Tasa Falso Positivo (1 - Especificidad)')\n",
    "plt.ylabel('Tasa Verdadero (Sensibilidad)')\n",
    "plt.grid(True)\n",
    "plt.savefig('ROC_RL_RAC.png')"
   ]
  },
  {
   "cell_type": "markdown",
   "metadata": {},
   "source": [
    "- La curva ROC auxilia en la **elección del umbral** que equilibra la sensibilidad y la especificidad de manera que tenga sentido para un contexto particular"
   ]
  },
  {
   "cell_type": "code",
   "execution_count": 39,
   "metadata": {},
   "outputs": [],
   "source": [
    "def evaluate_threshold(threshold):\n",
    "    print('Sensitividad:', tpr[thresholds > threshold][-1])\n",
    "    print('Especificidad:', 1 - fpr[thresholds > threshold][-1])"
   ]
  },
  {
   "cell_type": "code",
   "execution_count": 40,
   "metadata": {},
   "outputs": [
    {
     "name": "stdout",
     "output_type": "stream",
     "text": [
      "Sensitividad: 0.9236011477761836\n",
      "Especificidad: 0.7576866764275256\n"
     ]
    }
   ],
   "source": [
    "evaluate_threshold(0.5)"
   ]
  },
  {
   "cell_type": "code",
   "execution_count": 41,
   "metadata": {},
   "outputs": [
    {
     "name": "stdout",
     "output_type": "stream",
     "text": [
      "Sensitividad: 0.9641319942611191\n",
      "Especificidad: 0.6522693997071742\n"
     ]
    }
   ],
   "source": [
    "evaluate_threshold(0.3)"
   ]
  },
  {
   "cell_type": "code",
   "execution_count": 42,
   "metadata": {},
   "outputs": [
    {
     "name": "stdout",
     "output_type": "stream",
     "text": [
      "0.9191479746917873\n"
     ]
    }
   ],
   "source": [
    "print(metrics.roc_auc_score(y_test, y_pred_prob))"
   ]
  },
  {
   "cell_type": "code",
   "execution_count": 43,
   "metadata": {},
   "outputs": [
    {
     "data": {
      "text/plain": [
       "0.9155167446446881"
      ]
     },
     "execution_count": 43,
     "metadata": {},
     "output_type": "execute_result"
    }
   ],
   "source": [
    "from sklearn.model_selection import cross_val_score\n",
    "cross_val_score(logreg, X, y, cv=10, scoring='roc_auc').mean()"
   ]
  },
  {
   "cell_type": "code",
   "execution_count": null,
   "metadata": {},
   "outputs": [],
   "source": []
  }
 ],
 "metadata": {
  "kernelspec": {
   "display_name": "Python 3",
   "language": "python",
   "name": "python3"
  },
  "language_info": {
   "codemirror_mode": {
    "name": "ipython",
    "version": 3
   },
   "file_extension": ".py",
   "mimetype": "text/x-python",
   "name": "python",
   "nbconvert_exporter": "python",
   "pygments_lexer": "ipython3",
   "version": "3.6.5"
  }
 },
 "nbformat": 4,
 "nbformat_minor": 2
}
